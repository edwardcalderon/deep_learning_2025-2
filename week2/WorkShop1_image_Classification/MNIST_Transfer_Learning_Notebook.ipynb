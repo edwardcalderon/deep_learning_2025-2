{
 "cells": [
  {
   "cell_type": "markdown",
   "id": "8a01b931",
   "metadata": {},
   "source": [
    "# MNIST Classification with Transfer Learning (Final Notebook)\n",
    "\n",
    "This notebook runs the complete pipeline using the updated script `mnist_transfer_learning_comparison.py`.\n",
    "\n",
    "It will:\n",
    "- Train LeNet-5 on MNIST\n",
    "- Train transfer learning models (VGG16, ResNet50, MobileNet)\n",
    "- Load local images `0.jpeg` and `1.jpeg`, preprocess and predict\n",
    "- Compare results across models"
   ]
  },
  {
   "cell_type": "markdown",
   "id": "701f9356",
   "metadata": {},
   "source": [
    "## 1. Environment and Imports"
   ]
  },
  {
   "cell_type": "code",
   "execution_count": 1,
   "id": "a48b05f1",
   "metadata": {},
   "outputs": [
    {
     "name": "stdout",
     "output_type": "stream",
     "text": [
      "Note: you may need to restart the kernel to use updated packages.\n",
      "Project dir set to: C:\\\n"
     ]
    }
   ],
   "source": [
    "%pip -q install tensorflow matplotlib opencv-python --upgrade\n",
    "import os, sys, pathlib\n",
    "from IPython.display import display\n",
    "\n",
    "# Ensure the script directory is on sys.path\n",
    "project_dir = pathlib.Path(r'/').resolve()\n",
    "if str(project_dir) not in sys.path:\n",
    "    sys.path.append(str(project_dir))\n",
    "print('Project dir set to:', project_dir)"
   ]
  },
  {
   "cell_type": "markdown",
   "id": "927004ea",
   "metadata": {},
   "source": [
    "## 2. Import pipeline functions from the script"
   ]
  },
  {
   "cell_type": "code",
   "execution_count": 2,
   "id": "6afe863d",
   "metadata": {},
   "outputs": [
    {
     "name": "stdout",
     "output_type": "stream",
     "text": [
      "Functions imported from mnist_transfer_learning_comparison.py\n"
     ]
    }
   ],
   "source": [
    "from mnist_transfer_learning_comparison import (\n",
    "    load_and_prepare_mnist,\n",
    "    create_lenet5_model,\n",
    "    train_lenet5,\n",
    "    train_transfer_learning_models,\n",
    "    get_local_test_images,\n",
    "    predict_external_images,\n",
    "    compare_results\n",
    ")\n",
    "print('Functions imported from mnist_transfer_learning_comparison.py')"
   ]
  },
  {
   "cell_type": "markdown",
   "id": "eeb5003e",
   "metadata": {},
   "source": [
    "## 3. Verify local test images (0.jpeg and 1.jpeg)"
   ]
  },
  {
   "cell_type": "code",
   "execution_count": 6,
   "id": "fb77f581",
   "metadata": {},
   "outputs": [
    {
     "name": "stdout",
     "output_type": "stream",
     "text": [
      "Checking C:\\0.jpeg -> False\n",
      "WARNING: Image not found. Place the file in: C:\\\n",
      "Checking C:\\1.jpeg -> False\n",
      "WARNING: Image not found. Place the file in: C:\\\n"
     ]
    }
   ],
   "source": [
    "import cv2, matplotlib.pyplot as plt\n",
    "img_names = ['0.jpeg', '1.jpeg']\n",
    "for name in img_names:\n",
    "    path = project_dir / name\n",
    "    print(f'Checking {path} ->', path.exists())\n",
    "    if path.exists():\n",
    "        img = cv2.imread(str(path), cv2.IMREAD_GRAYSCALE)\n",
    "        plt.figure(figsize=(3,3))\n",
    "        plt.imshow(img, cmap='gray')\n",
    "        plt.title(name)\n",
    "        plt.axis('off')\n",
    "        plt.show()\n",
    "    else:\n",
    "        print('WARNING: Image not found. Place the file in:', project_dir)"
   ]
  },
  {
   "cell_type": "markdown",
   "id": "388b8098",
   "metadata": {},
   "source": [
    "## 4. Load MNIST and train LeNet-5"
   ]
  },
  {
   "cell_type": "code",
   "execution_count": null,
   "id": "e81093e4",
   "metadata": {},
   "outputs": [],
   "source": [
    "(x_train, y_train, y_train_cat), (x_test, y_test, y_test_cat) = load_and_prepare_mnist()\n",
    "lenet = create_lenet5_model()\n",
    "lenet_history, lenet_acc = train_lenet5(lenet, x_train, y_train_cat, x_test, y_test_cat)\n",
    "print(f'LeNet-5 accuracy: {lenet_acc:.4f}')"
   ]
  },
  {
   "cell_type": "markdown",
   "id": "a4a25aad",
   "metadata": {},
   "source": [
    "## 5. Train transfer learning models (VGG16, ResNet50, MobileNet)"
   ]
  },
  {
   "cell_type": "code",
   "execution_count": null,
   "id": "d7fb6b9b",
   "metadata": {},
   "outputs": [],
   "source": [
    "transfer_results = train_transfer_learning_models(x_train, y_train_cat, x_test, y_test_cat)\n",
    "all_models = {'LeNet-5': {'model': lenet, 'test_accuracy': lenet_acc, 'history': lenet_history}}\n",
    "all_models.update(transfer_results)\n",
    "print('Transfer learning training completed.')"
   ]
  },
  {
   "cell_type": "markdown",
   "id": "babf099e",
   "metadata": {},
   "source": [
    "## 6. Predict on local images 0.jpeg and 1.jpeg"
   ]
  },
  {
   "cell_type": "code",
   "execution_count": null,
   "id": "16745729",
   "metadata": {},
   "outputs": [],
   "source": [
    "test_images = get_local_test_images()\n",
    "if not test_images:\n",
    "    print('No local images detected. Ensure 0.jpeg and 1.jpeg are in:', project_dir)\n",
    "else:\n",
    "    all_predictions = predict_external_images(all_models, test_images)\n",
    "    print('Predictions completed.')"
   ]
  },
  {
   "cell_type": "markdown",
   "id": "0fa18bc3",
   "metadata": {},
   "source": [
    "## 7. Compare results"
   ]
  },
  {
   "cell_type": "code",
   "execution_count": null,
   "id": "8a41bc44",
   "metadata": {},
   "outputs": [],
   "source": [
    "compare_results(lenet_acc, transfer_results)\n",
    "print('Done.')"
   ]
  }
 ],
 "metadata": {
  "kernelspec": {
   "display_name": "Python [conda env:base] *",
   "language": "python",
   "name": "conda-base-py"
  },
  "language_info": {
   "codemirror_mode": {
    "name": "ipython",
    "version": 3
   },
   "file_extension": ".py",
   "mimetype": "text/x-python",
   "name": "python",
   "nbconvert_exporter": "python",
   "pygments_lexer": "ipython3",
   "version": "3.13.5"
  }
 },
 "nbformat": 4,
 "nbformat_minor": 5
}
